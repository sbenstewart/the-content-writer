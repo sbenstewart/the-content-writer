{
 "cells": [
  {
   "cell_type": "code",
   "execution_count": 1,
   "metadata": {},
   "outputs": [],
   "source": [
    "import cv2\n",
    "import numpy as np\n",
    "from matplotlib import pyplot as plt\n",
    "from scipy import stats \n",
    "import scipy.stats as ss\n",
    "import seaborn as sns\n",
    "from PIL import Image\n",
    "import os\n",
    "from shutil import copyfile"
   ]
  },
  {
   "cell_type": "code",
   "execution_count": 2,
   "metadata": {},
   "outputs": [],
   "source": [
    "copyfile('base.png', 'flatten-the-curve-#5.png')\n",
    "for i in range(0,10):\n",
    "    plt.ioff()\n",
    "    img = cv2.imread('flatten-the-curve-#5.png')\n",
    "    plt.figure(figsize=(10,10))\n",
    "    blur = img\n",
    "    for i in range(0,10):\n",
    "        blur = cv2.GaussianBlur(blur,(45,45),0)\n",
    "    plt.imsave('blur.png',blur)\n",
    "    sns.set(rc={'figure.figsize':(10,10)})\n",
    "    sns.set_style(\"white\")\n",
    "    sns.set_context(\"talk\")\n",
    "    sns.despine()\n",
    "    x = img.ravel()\n",
    "    ax = sns.distplot(x, label = 'histogram for the unblurred content', color='red')\n",
    "    x = blur.ravel()\n",
    "    ax = sns.distplot(x, label = 'histogram for the blurred content', color='blue')\n",
    "    plt.legend(bbox_to_anchor=(0.6, 1), loc=1)\n",
    "    plt.savefig('foo.png')\n",
    "    img = Image.open('foo.png', 'r')\n",
    "    width, height = img.size\n",
    "    new_width  = 700\n",
    "    new_height = int(new_width * height / width)\n",
    "    new_height = 380\n",
    "    new_width  = int(new_height * width / height)\n",
    "    img = img.resize((new_width, new_height), Image.ANTIALIAS)\n",
    "    img_w, img_h = img.size\n",
    "    background = Image.open('flatten-the-curve-#5.png', 'r')\n",
    "    bg_w, bg_h = background.size\n",
    "    offset = ((bg_w - img_w) // 3, (bg_h - img_h) // 2)\n",
    "    background.paste(img, offset)\n",
    "    background.save('flatten-the-curve-#5.png')\n",
    "os.remove(\"foo.png\")"
   ]
  },
  {
   "cell_type": "code",
   "execution_count": null,
   "metadata": {},
   "outputs": [],
   "source": []
  }
 ],
 "metadata": {
  "kernelspec": {
   "display_name": "Python 3",
   "language": "python",
   "name": "python3"
  },
  "language_info": {
   "codemirror_mode": {
    "name": "ipython",
    "version": 3
   },
   "file_extension": ".py",
   "mimetype": "text/x-python",
   "name": "python",
   "nbconvert_exporter": "python",
   "pygments_lexer": "ipython3",
   "version": "3.7.3"
  }
 },
 "nbformat": 4,
 "nbformat_minor": 2
}
