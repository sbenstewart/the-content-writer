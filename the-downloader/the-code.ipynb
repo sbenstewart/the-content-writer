{
 "cells": [
  {
   "cell_type": "code",
   "execution_count": 6,
   "metadata": {},
   "outputs": [],
   "source": [
    "from urllib import request \n",
    "import requests\n",
    "from fpdf import FPDF"
   ]
  },
  {
   "cell_type": "code",
   "execution_count": 2,
   "metadata": {},
   "outputs": [],
   "source": [
    "def url_check(url):\n",
    "    #Description\n",
    "\n",
    "    \"\"\"Boolean return - check to see if the site exists.\n",
    "       This function takes a url as input and then it requests the site \n",
    "       head - not the full html and then it checks the response to see if \n",
    "       it's less than 400. If it is less than 400 it will return TRUE \n",
    "       else it will return False.\n",
    "    \"\"\"\n",
    "    try:\n",
    "            site_ping = requests.head(url)\n",
    "            if site_ping.status_code < 400:\n",
    "                #  To view the return status code, type this   :   **print(site.ping.status_code)** \n",
    "                return True\n",
    "            else:\n",
    "                return False\n",
    "    except Exception:\n",
    "        return False"
   ]
  },
  {
   "cell_type": "code",
   "execution_count": 3,
   "metadata": {},
   "outputs": [],
   "source": [
    "i=1\n",
    "while True:\n",
    "    url = \"https://github.com/sbenstewart/the-content-writer/raw/master/the-content/flatten-the-curve-%23\" + str(i)\n",
    "    url = url + \"/flatten-the-curve-%23\" + str(i)\n",
    "    url = url + \".png\"\n",
    "    path = str(i)+\".png\"\n",
    "    if url_check(url) is True:\n",
    "        request.urlretrieve(url, path)\n",
    "        i = i+1\n",
    "    else:\n",
    "        break"
   ]
  },
  {
   "cell_type": "code",
   "execution_count": 4,
   "metadata": {},
   "outputs": [
    {
     "name": "stdout",
     "output_type": "stream",
     "text": [
      "['1.png', '2.png', '3.png', '4.png', '5.png', '6.png', '7.png', '8.png', '9.png', '10.png', '11.png', '12.png', '13.png', '14.png', '15.png', '16.png', '17.png', '18.png', '19.png', '20.png', '21.png', '22.png', '23.png', '24.png', '25.png', '26.png', '27.png', '28.png', '29.png', '30.png']\n"
     ]
    }
   ],
   "source": [
    "imagelist = []\n",
    "for x in range(1,i): \n",
    "    imagelist.append(str(x) + \".png\")\n",
    "#print(imagelist)"
   ]
  },
  {
   "cell_type": "code",
   "execution_count": 15,
   "metadata": {},
   "outputs": [
    {
     "data": {
      "text/plain": [
       "''"
      ]
     },
     "execution_count": 15,
     "metadata": {},
     "output_type": "execute_result"
    }
   ],
   "source": [
    "pdf = FPDF()\n",
    "# imagelist is the list with all image filenames\n",
    "for image in imagelist:\n",
    "    pdf.add_page()\n",
    "    pdf.image(image, x = 10, y = 0, w=200)\n",
    "pdf.output(\"flatten-the-curve.pdf\", \"F\")"
   ]
  },
  {
   "cell_type": "code",
   "execution_count": null,
   "metadata": {},
   "outputs": [],
   "source": []
  }
 ],
 "metadata": {
  "kernelspec": {
   "display_name": "Python 3",
   "language": "python",
   "name": "python3"
  },
  "language_info": {
   "codemirror_mode": {
    "name": "ipython",
    "version": 3
   },
   "file_extension": ".py",
   "mimetype": "text/x-python",
   "name": "python",
   "nbconvert_exporter": "python",
   "pygments_lexer": "ipython3",
   "version": "3.7.3"
  }
 },
 "nbformat": 4,
 "nbformat_minor": 4
}
